{
 "cells": [
  {
   "cell_type": "code",
   "execution_count": 7,
   "metadata": {},
   "outputs": [
    {
     "name": "stdout",
     "output_type": "stream",
     "text": [
      "K=20, Mean Recall=0.000, Mean Precision=0.000, Max Recall=0.000\n",
      "K=50, Mean Recall=0.173, Mean Precision=0.001, Max Recall=0.000\n",
      "K=50, Mean Recall=0.174, Mean Precision=0.001, Max Recall=0.500\n",
      "\n",
      "Summary Analysis:\n",
      "Total Entries: 3\n",
      "Average Mean Recall: 0.116\n",
      "Average Mean Precision: 0.001\n",
      "Max Recall Overall: 0.500\n",
      "Max Precision Overall: 1.000\n"
     ]
    }
   ],
   "source": [
    "import json\n",
    "\n",
    "file_path = \"evaluation_results.json\"\n",
    "with open(file_path, \"r\") as file:\n",
    "    data = json.load(file)\n",
    "data = data['experiments']\n",
    "\n",
    "# Initialize accumulators\n",
    "total_entries = len(data)\n",
    "mean_recall_sum = 0\n",
    "mean_precision_sum = 0\n",
    "max_recall_overall = float('-inf')\n",
    "max_precision_overall = float('-inf')\n",
    "\n",
    "# Analyze each entry\n",
    "for entry in data:\n",
    "    K = entry.get(\"K\")\n",
    "    recall_scores = entry.get(\"recall_scores\", [])\n",
    "    precision_scores = entry.get(\"precision_scores\", [])\n",
    "    mean_recall = entry.get(\"mean_recall\", 0)\n",
    "    mean_precision = entry.get(\"mean_precision\", 0)\n",
    "    max_recall = entry.get(\"max_recall\", 0)\n",
    "\n",
    "\n",
    "    # Accumulate values\n",
    "    mean_recall_sum += mean_recall\n",
    "    mean_precision_sum += mean_precision\n",
    "    max_recall_overall = max(max_recall_overall, max_recall)\n",
    "    max_precision_overall = max(max_precision_overall, max(precision_scores, default=0))\n",
    "\n",
    "    # Print per-entry details (optional)\n",
    "    print(f\"K={K}, Mean Recall={mean_recall:.3f}, Mean Precision={mean_precision:.3f}, Max Recall={max_recall:.3f}\")\n",
    "\n",
    "# Compute overall metrics\n",
    "avg_mean_recall = mean_recall_sum / total_entries\n",
    "avg_mean_precision = mean_precision_sum / total_entries\n",
    "\n",
    "print(\"\\nSummary Analysis:\")\n",
    "print(f\"Total Entries: {total_entries}\")\n",
    "print(f\"Average Mean Recall: {avg_mean_recall:.3f}\")\n",
    "print(f\"Average Mean Precision: {avg_mean_precision:.3f}\")\n",
    "print(f\"Max Recall Overall: {max_recall_overall:.3f}\")\n",
    "print(f\"Max Precision Overall: {max_precision_overall:.3f}\")"
   ]
  }
 ],
 "metadata": {
  "kernelspec": {
   "display_name": "base",
   "language": "python",
   "name": "python3"
  },
  "language_info": {
   "codemirror_mode": {
    "name": "ipython",
    "version": 3
   },
   "file_extension": ".py",
   "mimetype": "text/x-python",
   "name": "python",
   "nbconvert_exporter": "python",
   "pygments_lexer": "ipython3",
   "version": "3.12.4"
  }
 },
 "nbformat": 4,
 "nbformat_minor": 2
}
